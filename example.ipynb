{
 "cells": [
  {
   "cell_type": "code",
   "execution_count": null,
   "metadata": {},
   "outputs": [],
   "source": [
    "import pandas as pd\n",
    "from matplotlib import pyplot as plt\n",
    "\n",
    "num_measurements = 25\n",
    "\n",
    "# read data from file\n",
    "data = pd.read_csv(\"temperatures.csv\", nrows=num_measurements)\n",
    "temperatures = data[\"Air temperature (degC)\"]\n",
    "\n",
    "# compute statistics\n",
    "mean = sum(temperatures) / num_measurements\n",
    "\n",
    "# plot results\n",
    "plt.plot(temperatures, \"r-\")\n",
    "plt.axhline(y=mean, color=\"b\", linestyle=\"--\")\n",
    "plt.show()\n",
    "plt.savefig(\"25.png\")\n",
    "plt.clf()"
   ]
  }
 ],
 "metadata": {
  "language_info": {
   "name": "python"
  },
  "orig_nbformat": 4
 },
 "nbformat": 4,
 "nbformat_minor": 2
}
